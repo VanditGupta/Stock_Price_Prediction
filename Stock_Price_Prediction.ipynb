{
 "cells": [
  {
   "cell_type": "code",
   "execution_count": 2,
   "metadata": {},
   "outputs": [],
   "source": [
    "import numpy as np\n",
    "import pandas as pd\n",
    "from sklearn.linear_model import LinearRegression"
   ]
  },
  {
   "cell_type": "code",
   "execution_count": 3,
   "metadata": {},
   "outputs": [],
   "source": [
    "x = pd.read_csv(\"./Train/x_train.csv\")\n",
    "y = pd.read_csv(\"./Train/y_train.csv\")\n",
    "z = pd.read_csv(\"./Test/x_test.csv\")\n"
   ]
  },
  {
   "cell_type": "code",
   "execution_count": 8,
   "metadata": {},
   "outputs": [
    {
     "name": "stdout",
     "output_type": "stream",
     "text": [
      "     High\n",
      "0  332.83\n",
      "1  333.87\n",
      "2  330.75\n",
      "3  328.77\n",
      "4  322.29\n",
      "5  315.72\n",
      "6  313.52\n",
      "7  315.26\n",
      "8  312.30\n",
      "9  314.81 (1257, 1)\n"
     ]
    }
   ],
   "source": [
    "print(x.head(10),x.shape)"
   ]
  },
  {
   "cell_type": "code",
   "execution_count": 7,
   "metadata": {},
   "outputs": [
    {
     "name": "stdout",
     "output_type": "stream",
     "text": [
      "     High\n",
      "0  333.87\n",
      "1  330.75\n",
      "2  328.77\n",
      "3  322.29\n",
      "4  315.72\n",
      "5  313.52\n",
      "6  315.26\n",
      "7  312.30\n",
      "8  314.81\n",
      "9  315.82 (1257, 1)\n"
     ]
    }
   ],
   "source": [
    "print(y.head(10),y.shape)"
   ]
  },
  {
   "cell_type": "code",
   "execution_count": 9,
   "metadata": {},
   "outputs": [
    {
     "name": "stdout",
     "output_type": "stream",
     "text": [
      "     High\n",
      "0  789.63\n",
      "1  791.34\n",
      "2  794.48\n",
      "3  807.90\n",
      "4  809.97\n",
      "5  809.13\n",
      "6  808.15\n",
      "7  807.39\n",
      "8  811.22\n",
      "9  807.14 (19, 1)\n"
     ]
    }
   ],
   "source": [
    "print(z.head(10),z.shape)"
   ]
  },
  {
   "cell_type": "code",
   "execution_count": 10,
   "metadata": {},
   "outputs": [],
   "source": [
    "lr = LinearRegression()"
   ]
  },
  {
   "cell_type": "code",
   "execution_count": 12,
   "metadata": {},
   "outputs": [
    {
     "data": {
      "text/plain": [
       "LinearRegression(copy_X=True, fit_intercept=True, n_jobs=None, normalize=False)"
      ]
     },
     "execution_count": 12,
     "metadata": {},
     "output_type": "execute_result"
    }
   ],
   "source": [
    "lr.fit(x,y)"
   ]
  },
  {
   "cell_type": "code",
   "execution_count": 13,
   "metadata": {},
   "outputs": [
    {
     "data": {
      "text/plain": [
       "0.9975922485037328"
      ]
     },
     "execution_count": 13,
     "metadata": {},
     "output_type": "execute_result"
    }
   ],
   "source": [
    "lr.score(x,y)"
   ]
  },
  {
   "cell_type": "code",
   "execution_count": 16,
   "metadata": {},
   "outputs": [],
   "source": [
    "pred = lr.predict(z)"
   ]
  },
  {
   "cell_type": "code",
   "execution_count": 17,
   "metadata": {},
   "outputs": [],
   "source": [
    "test = pd.DataFrame(pred)"
   ]
  },
  {
   "cell_type": "code",
   "execution_count": 18,
   "metadata": {},
   "outputs": [],
   "source": [
    "test.to_csv(\"Predictions.csv\",index=False)"
   ]
  },
  {
   "cell_type": "code",
   "execution_count": null,
   "metadata": {},
   "outputs": [],
   "source": []
  }
 ],
 "metadata": {
  "kernelspec": {
   "display_name": "Python 3",
   "language": "python",
   "name": "python3"
  },
  "language_info": {
   "codemirror_mode": {
    "name": "ipython",
    "version": 3
   },
   "file_extension": ".py",
   "mimetype": "text/x-python",
   "name": "python",
   "nbconvert_exporter": "python",
   "pygments_lexer": "ipython3",
   "version": "3.6.8"
  }
 },
 "nbformat": 4,
 "nbformat_minor": 2
}
